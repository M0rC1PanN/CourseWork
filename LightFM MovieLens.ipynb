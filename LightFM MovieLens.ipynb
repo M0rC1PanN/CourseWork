{
  "nbformat": 4,
  "nbformat_minor": 0,
  "metadata": {
    "colab": {
      "name": "public LightFM MovieLens 20M Dataset.ipynb",
      "provenance": [],
      "collapsed_sections": [
        "XwR4JFeC3SDD",
        "BDyQSVJeZrPZ",
        "28q66KXvo3ax"
      ]
    },
    "kernelspec": {
      "display_name": "Python 3",
      "name": "python3"
    }
  },
  "cells": [
    {
      "cell_type": "markdown",
      "metadata": {
        "id": "YL-6NZ0k6HZD"
      },
      "source": [
        "#Course work research"
      ]
    },
    {
      "cell_type": "code",
      "metadata": {
        "colab": {
          "base_uri": "https://localhost:8080/"
        },
        "id": "rOm_QiNP6GdI",
        "outputId": "f7fd374c-8c1e-49f6-e6a2-73ddb931b079"
      },
      "source": [
        "from google.colab import drive\n",
        "drive.mount('/content/drive')"
      ],
      "execution_count": 1,
      "outputs": [
        {
          "output_type": "stream",
          "text": [
            "Mounted at /content/drive\n"
          ],
          "name": "stdout"
        }
      ]
    },
    {
      "cell_type": "code",
      "metadata": {
        "id": "NrcZfF0K63A6"
      },
      "source": [
        "!pip install turicreate\n",
        "!pip install lightfm"
      ],
      "execution_count": null,
      "outputs": []
    },
    {
      "cell_type": "code",
      "metadata": {
        "id": "3uYMFF6-DRm7"
      },
      "source": [
        "import pandas as pd\n",
        "import turicreate as tc\n",
        "from lightfm import LightFM, data\n",
        "import numpy as np\n",
        "import scipy"
      ],
      "execution_count": 3,
      "outputs": []
    },
    {
      "cell_type": "markdown",
      "metadata": {
        "id": "XwR4JFeC3SDD"
      },
      "source": [
        "##Preprocess Movie Frame"
      ]
    },
    {
      "cell_type": "code",
      "metadata": {
        "id": "UaHBKd5L3Uuy"
      },
      "source": [
        "movie_frame = pd.read_csv('/content/drive/My Drive/Colab Notebooks/Course Work/movie.csv')"
      ],
      "execution_count": 4,
      "outputs": []
    },
    {
      "cell_type": "code",
      "metadata": {
        "id": "_NJ2zVtR3l_o"
      },
      "source": [
        "rating_frame = pd.read_csv('/content/drive/My Drive/Colab Notebooks/Course Work/rating.csv')"
      ],
      "execution_count": 5,
      "outputs": []
    },
    {
      "cell_type": "code",
      "metadata": {
        "colab": {
          "base_uri": "https://localhost:8080/",
          "height": 0
        },
        "id": "F2MFzmrx3o0m",
        "outputId": "89dc32ee-465f-48a2-e483-c114b07627cf"
      },
      "source": [
        "popularity_frame = rating_frame[['userId', 'movieId']] \\\n",
        "                      .groupby('movieId')  \\\n",
        "                      .count()  \\\n",
        "                      .rename({'userId': 'user_id_count'}, axis='columns')  \\\n",
        "                      .sort_values('user_id_count', ascending=False)\n",
        "popularity_frame.head()"
      ],
      "execution_count": 6,
      "outputs": [
        {
          "output_type": "execute_result",
          "data": {
            "text/html": [
              "<div>\n",
              "<style scoped>\n",
              "    .dataframe tbody tr th:only-of-type {\n",
              "        vertical-align: middle;\n",
              "    }\n",
              "\n",
              "    .dataframe tbody tr th {\n",
              "        vertical-align: top;\n",
              "    }\n",
              "\n",
              "    .dataframe thead th {\n",
              "        text-align: right;\n",
              "    }\n",
              "</style>\n",
              "<table border=\"1\" class=\"dataframe\">\n",
              "  <thead>\n",
              "    <tr style=\"text-align: right;\">\n",
              "      <th></th>\n",
              "      <th>user_id_count</th>\n",
              "    </tr>\n",
              "    <tr>\n",
              "      <th>movieId</th>\n",
              "      <th></th>\n",
              "    </tr>\n",
              "  </thead>\n",
              "  <tbody>\n",
              "    <tr>\n",
              "      <th>296</th>\n",
              "      <td>67310</td>\n",
              "    </tr>\n",
              "    <tr>\n",
              "      <th>356</th>\n",
              "      <td>66172</td>\n",
              "    </tr>\n",
              "    <tr>\n",
              "      <th>318</th>\n",
              "      <td>63366</td>\n",
              "    </tr>\n",
              "    <tr>\n",
              "      <th>593</th>\n",
              "      <td>63299</td>\n",
              "    </tr>\n",
              "    <tr>\n",
              "      <th>480</th>\n",
              "      <td>59715</td>\n",
              "    </tr>\n",
              "  </tbody>\n",
              "</table>\n",
              "</div>"
            ],
            "text/plain": [
              "         user_id_count\n",
              "movieId               \n",
              "296              67310\n",
              "356              66172\n",
              "318              63366\n",
              "593              63299\n",
              "480              59715"
            ]
          },
          "metadata": {
            "tags": []
          },
          "execution_count": 6
        }
      ]
    },
    {
      "cell_type": "code",
      "metadata": {
        "id": "M6JHAUaq4D6d"
      },
      "source": [
        "def popularity(column):\n",
        "  if column < 4:\n",
        "    return 'very low popularity'\n",
        "  if column < 30:\n",
        "    return 'low popularity'\n",
        "  if column > 5000:\n",
        "    return 'high popularity'\n",
        "  return 'medium popularity'"
      ],
      "execution_count": 7,
      "outputs": []
    },
    {
      "cell_type": "code",
      "metadata": {
        "id": "PyNeZtn138L6"
      },
      "source": [
        "popularity_frame['popularity'] = popularity_frame['user_id_count'].apply(popularity)"
      ],
      "execution_count": 8,
      "outputs": []
    },
    {
      "cell_type": "code",
      "metadata": {
        "colab": {
          "base_uri": "https://localhost:8080/",
          "height": 0
        },
        "id": "-mpdYQd438MZ",
        "outputId": "0419ebd5-e00f-4058-8890-5c4bd88f591c"
      },
      "source": [
        "popularity_frame['popularity'].hist()"
      ],
      "execution_count": 9,
      "outputs": [
        {
          "output_type": "execute_result",
          "data": {
            "text/plain": [
              "<matplotlib.axes._subplots.AxesSubplot at 0x7f7c9512e890>"
            ]
          },
          "metadata": {
            "tags": []
          },
          "execution_count": 9
        },
        {
          "output_type": "display_data",
          "data": {
            "image/png": "[encoded data removed]",
            "text/plain": [
              "<Figure size 432x288 with 1 Axes>"
            ]
          },
          "metadata": {
            "tags": [],
            "needs_background": "light"
          }
        }
      ]
    },
    {
      "cell_type": "code",
      "metadata": {
        "id": "RINKjg6z38Mb"
      },
      "source": [
        "popoularity_one_hot = popularity_frame['popularity'].str.get_dummies()"
      ],
      "execution_count": 10,
      "outputs": []
    },
    {
      "cell_type": "code",
      "metadata": {
        "id": "mMeJYmMWGze4"
      },
      "source": [
        "max_id = max(movie_frame['movieId'])"
      ],
      "execution_count": 11,
      "outputs": []
    },
    {
      "cell_type": "code",
      "metadata": {
        "id": "t7jQuKJj4q5t"
      },
      "source": [
        "movie_frame.set_index('movieId', inplace=True)"
      ],
      "execution_count": 12,
      "outputs": []
    },
    {
      "cell_type": "code",
      "metadata": {
        "id": "ZO9NdDtP38Mc"
      },
      "source": [
        "movie_frame = movie_frame.join(popoularity_one_hot, on='movieId', how='left')"
      ],
      "execution_count": 13,
      "outputs": []
    },
    {
      "cell_type": "code",
      "metadata": {
        "id": "NoaQc7tf3oUz"
      },
      "source": [
        "movie_frame['year'] = movie_frame.title.str.extract('(\\(\\d\\d\\d\\d\\))',expand=False)\n",
        "movie_frame['year'] = movie_frame.year.str.extract('(\\d\\d\\d\\d)',expand=False)"
      ],
      "execution_count": 14,
      "outputs": []
    },
    {
      "cell_type": "code",
      "metadata": {
        "id": "iiFoX6-j5cHJ"
      },
      "source": [
        "movie_frame['year'] = movie_frame['year'].fillna(1900)"
      ],
      "execution_count": 15,
      "outputs": []
    },
    {
      "cell_type": "code",
      "metadata": {
        "id": "f7CcYfMO5Okc"
      },
      "source": [
        "movie_frame['decade'] = movie_frame['year'].apply(lambda x: str(int(x) // 10))\n",
        "movie_frame['century'] = movie_frame['year'].apply(lambda x: str(int(x) // 100))"
      ],
      "execution_count": 16,
      "outputs": []
    },
    {
      "cell_type": "code",
      "metadata": {
        "id": "-k-APhuo5txP"
      },
      "source": [
        "movie_frame = movie_frame.join(movie_frame['decade'].str.get_dummies(), how='left')\n",
        "movie_frame = movie_frame.join(movie_frame['century'].str.get_dummies(), how='left')"
      ],
      "execution_count": 17,
      "outputs": []
    },
    {
      "cell_type": "code",
      "metadata": {
        "id": "QOXW53-151TL"
      },
      "source": [
        "movie_frame.drop(['year', 'decade', 'century'], axis=1, inplace=True)"
      ],
      "execution_count": 18,
      "outputs": []
    },
    {
      "cell_type": "code",
      "metadata": {
        "id": "9NxtWEx242f2"
      },
      "source": [
        "movie_frame = movie_frame.join(movie_frame['genres'].str.get_dummies(), how='left')"
      ],
      "execution_count": 19,
      "outputs": []
    },
    {
      "cell_type": "code",
      "metadata": {
        "id": "G0kGG8Jc5vVz"
      },
      "source": [
        "movie_frame.drop(['title', 'genres', '(no genres listed)'], axis=1, inplace=True)"
      ],
      "execution_count": 20,
      "outputs": []
    },
    {
      "cell_type": "code",
      "metadata": {
        "colab": {
          "base_uri": "https://localhost:8080/",
          "height": 0
        },
        "id": "UF3R3nZl4mSa",
        "outputId": "ae2ee77e-b27b-4b3f-90a6-1b83fc0e7608"
      },
      "source": [
        "movie_frame.head()"
      ],
      "execution_count": 21,
      "outputs": [
        {
          "output_type": "execute_result",
          "data": {
            "text/html": [
              "<div>\n",
              "<style scoped>\n",
              "    .dataframe tbody tr th:only-of-type {\n",
              "        vertical-align: middle;\n",
              "    }\n",
              "\n",
              "    .dataframe tbody tr th {\n",
              "        vertical-align: top;\n",
              "    }\n",
              "\n",
              "    .dataframe thead th {\n",
              "        text-align: right;\n",
              "    }\n",
              "</style>\n",
              "<table border=\"1\" class=\"dataframe\">\n",
              "  <thead>\n",
              "    <tr style=\"text-align: right;\">\n",
              "      <th></th>\n",
              "      <th>high popularity</th>\n",
              "      <th>low popularity</th>\n",
              "      <th>medium popularity</th>\n",
              "      <th>very low popularity</th>\n",
              "      <th>189</th>\n",
              "      <th>190</th>\n",
              "      <th>191</th>\n",
              "      <th>192</th>\n",
              "      <th>193</th>\n",
              "      <th>194</th>\n",
              "      <th>195</th>\n",
              "      <th>196</th>\n",
              "      <th>197</th>\n",
              "      <th>198</th>\n",
              "      <th>199</th>\n",
              "      <th>200</th>\n",
              "      <th>201</th>\n",
              "      <th>18</th>\n",
              "      <th>19</th>\n",
              "      <th>20</th>\n",
              "      <th>Action</th>\n",
              "      <th>Adventure</th>\n",
              "      <th>Animation</th>\n",
              "      <th>Children</th>\n",
              "      <th>Comedy</th>\n",
              "      <th>Crime</th>\n",
              "      <th>Documentary</th>\n",
              "      <th>Drama</th>\n",
              "      <th>Fantasy</th>\n",
              "      <th>Film-Noir</th>\n",
              "      <th>Horror</th>\n",
              "      <th>IMAX</th>\n",
              "      <th>Musical</th>\n",
              "      <th>Mystery</th>\n",
              "      <th>Romance</th>\n",
              "      <th>Sci-Fi</th>\n",
              "      <th>Thriller</th>\n",
              "      <th>War</th>\n",
              "      <th>Western</th>\n",
              "    </tr>\n",
              "    <tr>\n",
              "      <th>movieId</th>\n",
              "      <th></th>\n",
              "      <th></th>\n",
              "      <th></th>\n",
              "      <th></th>\n",
              "      <th></th>\n",
              "      <th></th>\n",
              "      <th></th>\n",
              "      <th></th>\n",
              "      <th></th>\n",
              "      <th></th>\n",
              "      <th></th>\n",
              "      <th></th>\n",
              "      <th></th>\n",
              "      <th></th>\n",
              "      <th></th>\n",
              "      <th></th>\n",
              "      <th></th>\n",
              "      <th></th>\n",
              "      <th></th>\n",
              "      <th></th>\n",
              "      <th></th>\n",
              "      <th></th>\n",
              "      <th></th>\n",
              "      <th></th>\n",
              "      <th></th>\n",
              "      <th></th>\n",
              "      <th></th>\n",
              "      <th></th>\n",
              "      <th></th>\n",
              "      <th></th>\n",
              "      <th></th>\n",
              "      <th></th>\n",
              "      <th></th>\n",
              "      <th></th>\n",
              "      <th></th>\n",
              "      <th></th>\n",
              "      <th></th>\n",
              "      <th></th>\n",
              "      <th></th>\n",
              "    </tr>\n",
              "  </thead>\n",
              "  <tbody>\n",
              "    <tr>\n",
              "      <th>1</th>\n",
              "      <td>1.0</td>\n",
              "      <td>0.0</td>\n",
              "      <td>0.0</td>\n",
              "      <td>0.0</td>\n",
              "      <td>0</td>\n",
              "      <td>0</td>\n",
              "      <td>0</td>\n",
              "      <td>0</td>\n",
              "      <td>0</td>\n",
              "      <td>0</td>\n",
              "      <td>0</td>\n",
              "      <td>0</td>\n",
              "      <td>0</td>\n",
              "      <td>0</td>\n",
              "      <td>1</td>\n",
              "      <td>0</td>\n",
              "      <td>0</td>\n",
              "      <td>0</td>\n",
              "      <td>1</td>\n",
              "      <td>0</td>\n",
              "      <td>0</td>\n",
              "      <td>1</td>\n",
              "      <td>1</td>\n",
              "      <td>1</td>\n",
              "      <td>1</td>\n",
              "      <td>0</td>\n",
              "      <td>0</td>\n",
              "      <td>0</td>\n",
              "      <td>1</td>\n",
              "      <td>0</td>\n",
              "      <td>0</td>\n",
              "      <td>0</td>\n",
              "      <td>0</td>\n",
              "      <td>0</td>\n",
              "      <td>0</td>\n",
              "      <td>0</td>\n",
              "      <td>0</td>\n",
              "      <td>0</td>\n",
              "      <td>0</td>\n",
              "    </tr>\n",
              "    <tr>\n",
              "      <th>2</th>\n",
              "      <td>1.0</td>\n",
              "      <td>0.0</td>\n",
              "      <td>0.0</td>\n",
              "      <td>0.0</td>\n",
              "      <td>0</td>\n",
              "      <td>0</td>\n",
              "      <td>0</td>\n",
              "      <td>0</td>\n",
              "      <td>0</td>\n",
              "      <td>0</td>\n",
              "      <td>0</td>\n",
              "      <td>0</td>\n",
              "      <td>0</td>\n",
              "      <td>0</td>\n",
              "      <td>1</td>\n",
              "      <td>0</td>\n",
              "      <td>0</td>\n",
              "      <td>0</td>\n",
              "      <td>1</td>\n",
              "      <td>0</td>\n",
              "      <td>0</td>\n",
              "      <td>1</td>\n",
              "      <td>0</td>\n",
              "      <td>1</td>\n",
              "      <td>0</td>\n",
              "      <td>0</td>\n",
              "      <td>0</td>\n",
              "      <td>0</td>\n",
              "      <td>1</td>\n",
              "      <td>0</td>\n",
              "      <td>0</td>\n",
              "      <td>0</td>\n",
              "      <td>0</td>\n",
              "      <td>0</td>\n",
              "      <td>0</td>\n",
              "      <td>0</td>\n",
              "      <td>0</td>\n",
              "      <td>0</td>\n",
              "      <td>0</td>\n",
              "    </tr>\n",
              "    <tr>\n",
              "      <th>3</th>\n",
              "      <td>1.0</td>\n",
              "      <td>0.0</td>\n",
              "      <td>0.0</td>\n",
              "      <td>0.0</td>\n",
              "      <td>0</td>\n",
              "      <td>0</td>\n",
              "      <td>0</td>\n",
              "      <td>0</td>\n",
              "      <td>0</td>\n",
              "      <td>0</td>\n",
              "      <td>0</td>\n",
              "      <td>0</td>\n",
              "      <td>0</td>\n",
              "      <td>0</td>\n",
              "      <td>1</td>\n",
              "      <td>0</td>\n",
              "      <td>0</td>\n",
              "      <td>0</td>\n",
              "      <td>1</td>\n",
              "      <td>0</td>\n",
              "      <td>0</td>\n",
              "      <td>0</td>\n",
              "      <td>0</td>\n",
              "      <td>0</td>\n",
              "      <td>1</td>\n",
              "      <td>0</td>\n",
              "      <td>0</td>\n",
              "      <td>0</td>\n",
              "      <td>0</td>\n",
              "      <td>0</td>\n",
              "      <td>0</td>\n",
              "      <td>0</td>\n",
              "      <td>0</td>\n",
              "      <td>0</td>\n",
              "      <td>1</td>\n",
              "      <td>0</td>\n",
              "      <td>0</td>\n",
              "      <td>0</td>\n",
              "      <td>0</td>\n",
              "    </tr>\n",
              "    <tr>\n",
              "      <th>4</th>\n",
              "      <td>0.0</td>\n",
              "      <td>0.0</td>\n",
              "      <td>1.0</td>\n",
              "      <td>0.0</td>\n",
              "      <td>0</td>\n",
              "      <td>0</td>\n",
              "      <td>0</td>\n",
              "      <td>0</td>\n",
              "      <td>0</td>\n",
              "      <td>0</td>\n",
              "      <td>0</td>\n",
              "      <td>0</td>\n",
              "      <td>0</td>\n",
              "      <td>0</td>\n",
              "      <td>1</td>\n",
              "      <td>0</td>\n",
              "      <td>0</td>\n",
              "      <td>0</td>\n",
              "      <td>1</td>\n",
              "      <td>0</td>\n",
              "      <td>0</td>\n",
              "      <td>0</td>\n",
              "      <td>0</td>\n",
              "      <td>0</td>\n",
              "      <td>1</td>\n",
              "      <td>0</td>\n",
              "      <td>0</td>\n",
              "      <td>1</td>\n",
              "      <td>0</td>\n",
              "      <td>0</td>\n",
              "      <td>0</td>\n",
              "      <td>0</td>\n",
              "      <td>0</td>\n",
              "      <td>0</td>\n",
              "      <td>1</td>\n",
              "      <td>0</td>\n",
              "      <td>0</td>\n",
              "      <td>0</td>\n",
              "      <td>0</td>\n",
              "    </tr>\n",
              "    <tr>\n",
              "      <th>5</th>\n",
              "      <td>1.0</td>\n",
              "      <td>0.0</td>\n",
              "      <td>0.0</td>\n",
              "      <td>0.0</td>\n",
              "      <td>0</td>\n",
              "      <td>0</td>\n",
              "      <td>0</td>\n",
              "      <td>0</td>\n",
              "      <td>0</td>\n",
              "      <td>0</td>\n",
              "      <td>0</td>\n",
              "      <td>0</td>\n",
              "      <td>0</td>\n",
              "      <td>0</td>\n",
              "      <td>1</td>\n",
              "      <td>0</td>\n",
              "      <td>0</td>\n",
              "      <td>0</td>\n",
              "      <td>1</td>\n",
              "      <td>0</td>\n",
              "      <td>0</td>\n",
              "      <td>0</td>\n",
              "      <td>0</td>\n",
              "      <td>0</td>\n",
              "      <td>1</td>\n",
              "      <td>0</td>\n",
              "      <td>0</td>\n",
              "      <td>0</td>\n",
              "      <td>0</td>\n",
              "      <td>0</td>\n",
              "      <td>0</td>\n",
              "      <td>0</td>\n",
              "      <td>0</td>\n",
              "      <td>0</td>\n",
              "      <td>0</td>\n",
              "      <td>0</td>\n",
              "      <td>0</td>\n",
              "      <td>0</td>\n",
              "      <td>0</td>\n",
              "    </tr>\n",
              "  </tbody>\n",
              "</table>\n",
              "</div>"
            ],
            "text/plain": [
              "         high popularity  low popularity  ...  War  Western\n",
              "movieId                                   ...              \n",
              "1                    1.0             0.0  ...    0        0\n",
              "2                    1.0             0.0  ...    0        0\n",
              "3                    1.0             0.0  ...    0        0\n",
              "4                    0.0             0.0  ...    0        0\n",
              "5                    1.0             0.0  ...    0        0\n",
              "\n",
              "[5 rows x 39 columns]"
            ]
          },
          "metadata": {
            "tags": []
          },
          "execution_count": 21
        }
      ]
    },
    {
      "cell_type": "code",
      "metadata": {
        "colab": {
          "base_uri": "https://localhost:8080/"
        },
        "id": "njdy6kf_4zeY",
        "outputId": "aaa2c4c5-141b-4db1-d65f-84375dc87271"
      },
      "source": [
        "movie_frame.shape"
      ],
      "execution_count": 22,
      "outputs": [
        {
          "output_type": "execute_result",
          "data": {
            "text/plain": [
              "(27278, 39)"
            ]
          },
          "metadata": {
            "tags": []
          },
          "execution_count": 22
        }
      ]
    },
    {
      "cell_type": "code",
      "metadata": {
        "id": "JH4mOg8KG_19",
        "colab": {
          "base_uri": "https://localhost:8080/"
        },
        "outputId": "0511d157-c3d5-4848-fd3f-b151a4d68f54"
      },
      "source": [
        "max_id"
      ],
      "execution_count": 23,
      "outputs": [
        {
          "output_type": "execute_result",
          "data": {
            "text/plain": [
              "131262"
            ]
          },
          "metadata": {
            "tags": []
          },
          "execution_count": 23
        }
      ]
    },
    {
      "cell_type": "code",
      "metadata": {
        "colab": {
          "base_uri": "https://localhost:8080/",
          "height": 0
        },
        "id": "nPBCo4GlG_o3",
        "outputId": "452ebbc8-9d72-4f31-b838-ff51ca591551"
      },
      "source": [
        "dummy_frame = pd.DataFrame(data=np.arange(max_id + 1), columns=['movieId']).set_index('movieId')\n",
        "dummy_frame"
      ],
      "execution_count": 24,
      "outputs": [
        {
          "output_type": "execute_result",
          "data": {
            "text/html": [
              "<div>\n",
              "<style scoped>\n",
              "    .dataframe tbody tr th:only-of-type {\n",
              "        vertical-align: middle;\n",
              "    }\n",
              "\n",
              "    .dataframe tbody tr th {\n",
              "        vertical-align: top;\n",
              "    }\n",
              "\n",
              "    .dataframe thead th {\n",
              "        text-align: right;\n",
              "    }\n",
              "</style>\n",
              "<table border=\"1\" class=\"dataframe\">\n",
              "  <thead>\n",
              "    <tr style=\"text-align: right;\">\n",
              "      <th></th>\n",
              "    </tr>\n",
              "    <tr>\n",
              "      <th>movieId</th>\n",
              "    </tr>\n",
              "  </thead>\n",
              "  <tbody>\n",
              "    <tr>\n",
              "      <th>0</th>\n",
              "    </tr>\n",
              "    <tr>\n",
              "      <th>1</th>\n",
              "    </tr>\n",
              "    <tr>\n",
              "      <th>2</th>\n",
              "    </tr>\n",
              "    <tr>\n",
              "      <th>3</th>\n",
              "    </tr>\n",
              "    <tr>\n",
              "      <th>4</th>\n",
              "    </tr>\n",
              "    <tr>\n",
              "      <th>...</th>\n",
              "    </tr>\n",
              "    <tr>\n",
              "      <th>131258</th>\n",
              "    </tr>\n",
              "    <tr>\n",
              "      <th>131259</th>\n",
              "    </tr>\n",
              "    <tr>\n",
              "      <th>131260</th>\n",
              "    </tr>\n",
              "    <tr>\n",
              "      <th>131261</th>\n",
              "    </tr>\n",
              "    <tr>\n",
              "      <th>131262</th>\n",
              "    </tr>\n",
              "  </tbody>\n",
              "</table>\n",
              "<p>131263 rows × 0 columns</p>\n",
              "</div>"
            ],
            "text/plain": [
              "Empty DataFrame\n",
              "Columns: []\n",
              "Index: [0, 1, 2, 3, 4, 5, 6, 7, 8, 9, 10, 11, 12, 13, 14, 15, 16, 17, 18, 19, 20, 21, 22, 23, 24, 25, 26, 27, 28, 29, 30, 31, 32, 33, 34, 35, 36, 37, 38, 39, 40, 41, 42, 43, 44, 45, 46, 47, 48, 49, 50, 51, 52, 53, 54, 55, 56, 57, 58, 59, 60, 61, 62, 63, 64, 65, 66, 67, 68, 69, 70, 71, 72, 73, 74, 75, 76, 77, 78, 79, 80, 81, 82, 83, 84, 85, 86, 87, 88, 89, 90, 91, 92, 93, 94, 95, 96, 97, 98, 99, ...]\n",
              "\n",
              "[131263 rows x 0 columns]"
            ]
          },
          "metadata": {
            "tags": []
          },
          "execution_count": 24
        }
      ]
    },
    {
      "cell_type": "code",
      "metadata": {
        "id": "akUoE4dwHTgb"
      },
      "source": [
        "movie_frame = movie_frame.join(dummy_frame, how='right', on='movieId').set_index('movieId').fillna(0)"
      ],
      "execution_count": 25,
      "outputs": []
    },
    {
      "cell_type": "markdown",
      "metadata": {
        "id": "BDyQSVJeZrPZ"
      },
      "source": [
        "## LightFM"
      ]
    },
    {
      "cell_type": "code",
      "metadata": {
        "id": "utjd5-C73qUY"
      },
      "source": [
        "from scipy.sparse import coo_matrix, csr_matrix\n",
        "from sklearn.model_selection import train_test_split\n",
        "from sklearn.metrics import log_loss\n",
        "import matplotlib.pyplot as plt"
      ],
      "execution_count": 59,
      "outputs": []
    },
    {
      "cell_type": "code",
      "metadata": {
        "id": "B12FmqOv6YgM"
      },
      "source": [
        "user_movie_frame = pd.read_csv('/content/drive/My Drive/Colab Notebooks/Course Work/rating.csv')"
      ],
      "execution_count": 30,
      "outputs": []
    },
    {
      "cell_type": "code",
      "metadata": {
        "id": "wtcNKfyT60Uf"
      },
      "source": [
        "user_movie_frame.drop('timestamp', axis=1, inplace=True)"
      ],
      "execution_count": 31,
      "outputs": []
    },
    {
      "cell_type": "code",
      "metadata": {
        "colab": {
          "base_uri": "https://localhost:8080/",
          "height": 198
        },
        "id": "Ho6ndAo46lr-",
        "outputId": "fd4ed91c-304c-49f7-8ea4-3b8ea6f689d9"
      },
      "source": [
        "user_movie_frame.head()"
      ],
      "execution_count": 32,
      "outputs": [
        {
          "output_type": "execute_result",
          "data": {
            "text/html": [
              "<div>\n",
              "<style scoped>\n",
              "    .dataframe tbody tr th:only-of-type {\n",
              "        vertical-align: middle;\n",
              "    }\n",
              "\n",
              "    .dataframe tbody tr th {\n",
              "        vertical-align: top;\n",
              "    }\n",
              "\n",
              "    .dataframe thead th {\n",
              "        text-align: right;\n",
              "    }\n",
              "</style>\n",
              "<table border=\"1\" class=\"dataframe\">\n",
              "  <thead>\n",
              "    <tr style=\"text-align: right;\">\n",
              "      <th></th>\n",
              "      <th>userId</th>\n",
              "      <th>movieId</th>\n",
              "      <th>rating</th>\n",
              "    </tr>\n",
              "  </thead>\n",
              "  <tbody>\n",
              "    <tr>\n",
              "      <th>0</th>\n",
              "      <td>1</td>\n",
              "      <td>2</td>\n",
              "      <td>3.5</td>\n",
              "    </tr>\n",
              "    <tr>\n",
              "      <th>1</th>\n",
              "      <td>1</td>\n",
              "      <td>29</td>\n",
              "      <td>3.5</td>\n",
              "    </tr>\n",
              "    <tr>\n",
              "      <th>2</th>\n",
              "      <td>1</td>\n",
              "      <td>32</td>\n",
              "      <td>3.5</td>\n",
              "    </tr>\n",
              "    <tr>\n",
              "      <th>3</th>\n",
              "      <td>1</td>\n",
              "      <td>47</td>\n",
              "      <td>3.5</td>\n",
              "    </tr>\n",
              "    <tr>\n",
              "      <th>4</th>\n",
              "      <td>1</td>\n",
              "      <td>50</td>\n",
              "      <td>3.5</td>\n",
              "    </tr>\n",
              "  </tbody>\n",
              "</table>\n",
              "</div>"
            ],
            "text/plain": [
              "   userId  movieId  rating\n",
              "0       1        2     3.5\n",
              "1       1       29     3.5\n",
              "2       1       32     3.5\n",
              "3       1       47     3.5\n",
              "4       1       50     3.5"
            ]
          },
          "metadata": {
            "tags": []
          },
          "execution_count": 32
        }
      ]
    },
    {
      "cell_type": "code",
      "metadata": {
        "colab": {
          "base_uri": "https://localhost:8080/"
        },
        "id": "jGKI11Qg0xTl",
        "outputId": "b9a7aa38-e5fc-4966-c202-7c4bd23d9d4a"
      },
      "source": [
        "users_count = max(user_movie_frame['userId']) + 1\n",
        "movies_count = max(user_movie_frame['movieId']) + 1\n",
        "users_count, movies_count"
      ],
      "execution_count": 33,
      "outputs": [
        {
          "output_type": "execute_result",
          "data": {
            "text/plain": [
              "(138494, 131263)"
            ]
          },
          "metadata": {
            "tags": []
          },
          "execution_count": 33
        }
      ]
    },
    {
      "cell_type": "code",
      "metadata": {
        "id": "YYmNajhQ2m67"
      },
      "source": [
        "def encode_binary(x):\n",
        "    return 1 if x > 4 else -1\n",
        "\n",
        "user_movie_frame['rating'] = user_movie_frame['rating'].apply(encode_binary)"
      ],
      "execution_count": 34,
      "outputs": []
    },
    {
      "cell_type": "code",
      "metadata": {
        "colab": {
          "base_uri": "https://localhost:8080/",
          "height": 198
        },
        "id": "Kvt4d1Bi2u4U",
        "outputId": "b9ee9a5d-3156-4955-e316-35a32d1bfcc7"
      },
      "source": [
        "user_movie_frame.head(5)"
      ],
      "execution_count": 35,
      "outputs": [
        {
          "output_type": "execute_result",
          "data": {
            "text/html": [
              "<div>\n",
              "<style scoped>\n",
              "    .dataframe tbody tr th:only-of-type {\n",
              "        vertical-align: middle;\n",
              "    }\n",
              "\n",
              "    .dataframe tbody tr th {\n",
              "        vertical-align: top;\n",
              "    }\n",
              "\n",
              "    .dataframe thead th {\n",
              "        text-align: right;\n",
              "    }\n",
              "</style>\n",
              "<table border=\"1\" class=\"dataframe\">\n",
              "  <thead>\n",
              "    <tr style=\"text-align: right;\">\n",
              "      <th></th>\n",
              "      <th>userId</th>\n",
              "      <th>movieId</th>\n",
              "      <th>rating</th>\n",
              "    </tr>\n",
              "  </thead>\n",
              "  <tbody>\n",
              "    <tr>\n",
              "      <th>0</th>\n",
              "      <td>1</td>\n",
              "      <td>2</td>\n",
              "      <td>-1</td>\n",
              "    </tr>\n",
              "    <tr>\n",
              "      <th>1</th>\n",
              "      <td>1</td>\n",
              "      <td>29</td>\n",
              "      <td>-1</td>\n",
              "    </tr>\n",
              "    <tr>\n",
              "      <th>2</th>\n",
              "      <td>1</td>\n",
              "      <td>32</td>\n",
              "      <td>-1</td>\n",
              "    </tr>\n",
              "    <tr>\n",
              "      <th>3</th>\n",
              "      <td>1</td>\n",
              "      <td>47</td>\n",
              "      <td>-1</td>\n",
              "    </tr>\n",
              "    <tr>\n",
              "      <th>4</th>\n",
              "      <td>1</td>\n",
              "      <td>50</td>\n",
              "      <td>-1</td>\n",
              "    </tr>\n",
              "  </tbody>\n",
              "</table>\n",
              "</div>"
            ],
            "text/plain": [
              "   userId  movieId  rating\n",
              "0       1        2      -1\n",
              "1       1       29      -1\n",
              "2       1       32      -1\n",
              "3       1       47      -1\n",
              "4       1       50      -1"
            ]
          },
          "metadata": {
            "tags": []
          },
          "execution_count": 35
        }
      ]
    },
    {
      "cell_type": "code",
      "metadata": {
        "id": "E6vv1qp8DJug"
      },
      "source": [
        "training_frame, test_frame = train_test_split(user_movie_frame, test_size=0.2, random_state=125)"
      ],
      "execution_count": 36,
      "outputs": []
    },
    {
      "cell_type": "code",
      "metadata": {
        "id": "PhlW7DKs3YQT"
      },
      "source": [
        "rating_frame_sparse = coo_matrix((training_frame['rating'], (training_frame['userId'], training_frame['movieId'])), shape=(users_count, movies_count))"
      ],
      "execution_count": 37,
      "outputs": []
    },
    {
      "cell_type": "code",
      "metadata": {
        "id": "Yqnf4LdgKouo"
      },
      "source": [
        "rating_frame_sparse_test = coo_matrix((test_frame['rating'], (test_frame['userId'], test_frame['movieId'])), shape=(users_count, movies_count))"
      ],
      "execution_count": 38,
      "outputs": []
    },
    {
      "cell_type": "code",
      "metadata": {
        "colab": {
          "base_uri": "https://localhost:8080/"
        },
        "id": "JRuYULAf5mjz",
        "outputId": "6014a71e-6038-4d87-f1b6-1a569c5bcfb9"
      },
      "source": [
        "rating_frame_sparse"
      ],
      "execution_count": 39,
      "outputs": [
        {
          "output_type": "execute_result",
          "data": {
            "text/plain": [
              "<138494x131263 sparse matrix of type '<class 'numpy.int64'>'\n",
              "\twith 16000210 stored elements in COOrdinate format>"
            ]
          },
          "metadata": {
            "tags": []
          },
          "execution_count": 39
        }
      ]
    },
    {
      "cell_type": "code",
      "metadata": {
        "id": "afiFMYzz_uce"
      },
      "source": [
        "movies_features_sparsed = scipy.sparse.csr_matrix(movie_frame.values)"
      ],
      "execution_count": 40,
      "outputs": []
    },
    {
      "cell_type": "code",
      "metadata": {
        "colab": {
          "base_uri": "https://localhost:8080/"
        },
        "id": "DOYnM0fhKafD",
        "outputId": "59e7322d-ad63-4d64-8bb0-60c3f2911baf"
      },
      "source": [
        "movies_features_sparsed"
      ],
      "execution_count": 41,
      "outputs": [
        {
          "output_type": "execute_result",
          "data": {
            "text/plain": [
              "<131263x39 sparse matrix of type '<class 'numpy.float64'>'\n",
              "\twith 135460 stored elements in Compressed Sparse Row format>"
            ]
          },
          "metadata": {
            "tags": []
          },
          "execution_count": 41
        }
      ]
    },
    {
      "cell_type": "code",
      "metadata": {
        "colab": {
          "base_uri": "https://localhost:8080/"
        },
        "id": "8_UTdVOVBM5Y",
        "outputId": "739159ea-aaf9-4c11-af25-a317443e778a"
      },
      "source": [
        "model = LightFM(random_state=125)\n",
        "model.fit(rating_frame_sparse, item_features=movies_features_sparsed)"
      ],
      "execution_count": 42,
      "outputs": [
        {
          "output_type": "execute_result",
          "data": {
            "text/plain": [
              "<lightfm.lightfm.LightFM at 0x7f7c933a1dd0>"
            ]
          },
          "metadata": {
            "tags": []
          },
          "execution_count": 42
        }
      ]
    },
    {
      "cell_type": "code",
      "metadata": {
        "id": "v9Z1OBSQQJsW"
      },
      "source": [
        "def sigmoid(x):\n",
        "    return 1 / (1 + np.exp(-x))\n",
        "    \n",
        "def logloss(y_true, y_pred):\n",
        "    labels = [0 if i < 0 else 1 for i in y_true]\n",
        "    return log_loss(labels, sigmoid(y_pred))\n",
        "\n",
        "logloss_scorer = make_scorer(\n",
        "    logloss,\n",
        "    greater_is_better=False\n",
        ")"
      ],
      "execution_count": 53,
      "outputs": []
    },
    {
      "cell_type": "markdown",
      "metadata": {
        "id": "28q66KXvo3ax"
      },
      "source": [
        "##Hyperparams tuning"
      ]
    },
    {
      "cell_type": "code",
      "metadata": {
        "colab": {
          "base_uri": "https://localhost:8080/"
        },
        "id": "3SEcRivPUMeg",
        "outputId": "1286d307-9be2-4f93-8ee0-6119e7b90fce"
      },
      "source": [
        "no_components_range = np.arange(5, 51, 5)\n",
        "\n",
        "y_true = test_frame['rating']\n",
        "\n",
        "log_loss_no_comp = []\n",
        "\n",
        "for no_components in no_components_range:\n",
        "    print(f'no_components = {no_components}')\n",
        "    model = LightFM(random_state=125, no_components=no_components)\n",
        "    model.fit(rating_frame_sparse, item_features=movies_features_sparsed)\n",
        "    predictions = model.predict(user_ids=np.array(test_frame['userId']), \n",
        "                                item_ids=np.array(test_frame['movieId']), \n",
        "                                item_features=movies_features_sparsed)\n",
        "    log_loss_no_comp.append(logloss(y_true, predictions))\n",
        "    print(f'logloss = {log_loss_no_comp[-1]}')"
      ],
      "execution_count": 63,
      "outputs": [
        {
          "output_type": "stream",
          "text": [
            "no_components = 5\n",
            "logloss = 0.448764324593287\n",
            "no_components = 10\n",
            "logloss = 0.4437708371332553\n",
            "no_components = 15\n",
            "logloss = 0.44311930984799536\n",
            "no_components = 20\n",
            "logloss = 0.4424844638918465\n",
            "no_components = 25\n",
            "logloss = 0.44222809648421035\n",
            "no_components = 30\n",
            "logloss = 0.4420766015299164\n",
            "no_components = 35\n",
            "logloss = 0.44189542487913536\n",
            "no_components = 40\n",
            "logloss = 0.4418776275925455\n",
            "no_components = 45\n",
            "logloss = 0.4418152510082015\n",
            "no_components = 50\n",
            "logloss = 0.4419233001011425\n"
          ],
          "name": "stdout"
        }
      ]
    },
    {
      "cell_type": "code",
      "metadata": {
        "colab": {
          "base_uri": "https://localhost:8080/",
          "height": 285
        },
        "id": "0P5z1z2aaFy-",
        "outputId": "24d9a9e4-06e8-4cd1-e61d-f7b67ff81cdf"
      },
      "source": [
        "plt.plot(no_components_range, log_loss_no_comp)"
      ],
      "execution_count": 64,
      "outputs": [
        {
          "output_type": "execute_result",
          "data": {
            "text/plain": [
              "[<matplotlib.lines.Line2D at 0x7f7ce2533a50>]"
            ]
          },
          "metadata": {
            "tags": []
          },
          "execution_count": 64
        },
        {
          "output_type": "display_data",
          "data": {
            "image/png": "[encoded data removed]",
            "text/plain": [
              "<Figure size 432x288 with 1 Axes>"
            ]
          },
          "metadata": {
            "tags": [],
            "needs_background": "light"
          }
        }
      ]
    },
    {
      "cell_type": "code",
      "metadata": {
        "colab": {
          "base_uri": "https://localhost:8080/"
        },
        "id": "E9J8EAwKgmx7",
        "outputId": "62a9b093-f2e6-4236-92f9-7f19bcce57da"
      },
      "source": [
        "best_no_comp = no_components_range[np.argmin(log_loss_no_comp)]\n",
        "best_no_comp"
      ],
      "execution_count": 65,
      "outputs": [
        {
          "output_type": "execute_result",
          "data": {
            "text/plain": [
              "45"
            ]
          },
          "metadata": {
            "tags": []
          },
          "execution_count": 65
        }
      ]
    },
    {
      "cell_type": "code",
      "metadata": {
        "colab": {
          "base_uri": "https://localhost:8080/"
        },
        "id": "9NHtr8N1gjjK",
        "outputId": "ff457189-b9ff-42ff-bda2-f4da51f25d83"
      },
      "source": [
        "user_alphas = np.logspace(-8, 0, 10)\n",
        "\n",
        "y_true = test_frame['rating']\n",
        "\n",
        "log_loss_alphas = []\n",
        "\n",
        "for user_alpha in user_alphas:\n",
        "    print(f'user_alpha = {user_alpha}')\n",
        "    model = LightFM(random_state=125, \n",
        "                    no_components=best_no_comp, \n",
        "                    user_alpha=user_alpha)\n",
        "    model.fit(rating_frame_sparse, item_features=movies_features_sparsed)\n",
        "    predictions = model.predict(user_ids=np.array(test_frame['userId']), \n",
        "                                item_ids=np.array(test_frame['movieId']), \n",
        "                                item_features=movies_features_sparsed)\n",
        "    log_loss_alphas.append(logloss(y_true, predictions))\n",
        "    print(f'logloss = {log_loss_alphas[-1]}')"
      ],
      "execution_count": 67,
      "outputs": [
        {
          "output_type": "stream",
          "text": [
            "user_alpha = 1e-08\n",
            "logloss = 0.4418152611841543\n",
            "user_alpha = 7.742636826811277e-08\n",
            "logloss = 0.4418333162468715\n",
            "user_alpha = 5.994842503189409e-07\n",
            "logloss = 0.4429106024140067\n",
            "user_alpha = 4.641588833612773e-06\n",
            "logloss = 0.47172391982153955\n",
            "user_alpha = 3.5938136638046256e-05\n",
            "logloss = 0.5586982145472033\n",
            "user_alpha = 0.0002782559402207126\n",
            "logloss = 2.274839710540897\n",
            "user_alpha = 0.002154434690031882\n",
            "logloss = 0.6822083922387127\n",
            "user_alpha = 0.016681005372000558\n",
            "logloss = 0.5205866494726719\n",
            "user_alpha = 0.12915496650148828\n",
            "logloss = 0.5097876184103205\n",
            "user_alpha = 1.0\n",
            "logloss = 0.509545827199002\n"
          ],
          "name": "stdout"
        }
      ]
    },
    {
      "cell_type": "code",
      "metadata": {
        "colab": {
          "base_uri": "https://localhost:8080/",
          "height": 291
        },
        "id": "cQRNNEfchJ3m",
        "outputId": "76941c54-6c58-494a-a1cb-d1be31867bc4"
      },
      "source": [
        "plt.plot(user_alphas, log_loss_alphas)\n",
        "plt.xscale('log')\n",
        "plt.ylim([0.4, 0.6])"
      ],
      "execution_count": 71,
      "outputs": [
        {
          "output_type": "execute_result",
          "data": {
            "text/plain": [
              "(0.4, 0.6)"
            ]
          },
          "metadata": {
            "tags": []
          },
          "execution_count": 71
        },
        {
          "output_type": "display_data",
          "data": {
            "image/png": "[encoded data removed]",
            "text/plain": [
              "<Figure size 432x288 with 1 Axes>"
            ]
          },
          "metadata": {
            "tags": [],
            "needs_background": "light"
          }
        }
      ]
    },
    {
      "cell_type": "code",
      "metadata": {
        "colab": {
          "base_uri": "https://localhost:8080/"
        },
        "id": "nNJKgNQCk_qQ",
        "outputId": "c6d31433-23c9-4746-d743-77a9bba7bdba"
      },
      "source": [
        "best_alpha = user_alphas[np.argmin(log_loss_alphas)]\n",
        "best_alpha"
      ],
      "execution_count": 72,
      "outputs": [
        {
          "output_type": "execute_result",
          "data": {
            "text/plain": [
              "1e-08"
            ]
          },
          "metadata": {
            "tags": []
          },
          "execution_count": 72
        }
      ]
    },
    {
      "cell_type": "markdown",
      "metadata": {
        "id": "liC8YxQaovEc"
      },
      "source": [
        "##Final predictions"
      ]
    },
    {
      "cell_type": "code",
      "metadata": {
        "id": "FIQVT9yBLBBw"
      },
      "source": [
        "y_true = test_frame['rating']\n",
        "model = LightFM(random_state=125, \n",
        "                no_components=best_no_comp, \n",
        "                user_alpha=best_alpha,\n",
        "                learning_schedule='adagrad')\n",
        "model.fit(rating_frame_sparse, item_features=movies_features_sparsed)\n",
        "predictions = model.predict(user_ids=np.array(test_frame['userId']), \n",
        "                            item_ids=np.array(test_frame['movieId']), \n",
        "                            item_features=movies_features_sparsed)"
      ],
      "execution_count": 75,
      "outputs": []
    },
    {
      "cell_type": "code",
      "metadata": {
        "colab": {
          "base_uri": "https://localhost:8080/"
        },
        "id": "KEi1ufjloVnr",
        "outputId": "a75991f9-1dab-4b0e-9060-885cdcbf1b7b"
      },
      "source": [
        "logloss(y_true, predictions)"
      ],
      "execution_count": 76,
      "outputs": [
        {
          "output_type": "execute_result",
          "data": {
            "text/plain": [
              "0.4418152611841543"
            ]
          },
          "metadata": {
            "tags": []
          },
          "execution_count": 76
        }
      ]
    }
  ]
}